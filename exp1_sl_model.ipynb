{
 "cells": [
  {
   "cell_type": "code",
   "execution_count": 1,
   "id": "141faba8-280c-4299-8ac3-0e630c92501e",
   "metadata": {},
   "outputs": [],
   "source": [
    "from pathlib import Path\n",
    "import sys\n",
    "relative_path = Path('model')\n",
    "absolute_path = relative_path.resolve()\n",
    "sys.path.append(str(absolute_path))"
   ]
  },
  {
   "cell_type": "code",
   "execution_count": 2,
   "id": "e15060d4-e8cc-47b7-81c0-2b56d32d875c",
   "metadata": {},
   "outputs": [],
   "source": [
    "import torch\n",
    "import pytorch_lightning as pl\n",
    "from LT_SGVB_SSM_TS_Clustering_Model_With_NF import Base_SGVB_SSM_TS_Clustering_Model_With_NF, WD_FT_SGVB_SSM_TS_Clustering_Model_With_NF\n",
    "from SL_Toy_Dataset import SL_Toy_Dataset\n",
    "from torch import optim\n",
    "from torch.utils.data import DataLoader\n",
    "import numpy as np"
   ]
  },
  {
   "cell_type": "code",
   "execution_count": 3,
   "id": "7ae45e96-e83c-4e4e-ac10-99428ae27074",
   "metadata": {},
   "outputs": [],
   "source": [
    "base_param_dict_sl = {\"input_dim\":1,\n",
    "                   \"latent_dim\":2,\n",
    "                   \"num_clusters\":3,\n",
    "                   \"mode\":\"sl\"}\n",
    "\n",
    "lstm_param_dict = {\"embed_hidden_dim\":32,\n",
    "                   \"num_lstm_layers_base\":2,\n",
    "                   \"num_lstm_layers_other\":1,}\n",
    "\n",
    "resflow_param_dict_sl = {\"num_flow_module\":4,\n",
    "                      \"kernel_size\":2,\n",
    "                      \"dims\" : [2, 32, 32, 32, 32, 2],\n",
    "                      \"bias\" : True,\n",
    "                      \"coeff\" : 0.9,\n",
    "                      \"n_iterations\":None,\n",
    "                      \"tolerance\":0.001,\n",
    "                      \"reduce_memory\": False\n",
    "                      }\n",
    "\n",
    "sl_model_param_dict ={ \n",
    "                        \"c0\" : {\"sl_a1\" : 1,\n",
    "                                 \"sl_a2\" : None,\n",
    "                                 \"sl_omega1\" : None,\n",
    "                                 \"sl_omega2\" : None},\n",
    "                        \"c1\" : {\"sl_a1\" : 1,\n",
    "                                 \"sl_a2\" : None,\n",
    "                                 \"sl_omega1\" : None,\n",
    "                                 \"sl_omega2\" : None},\n",
    "                        \"c2\" : {\"sl_a1\" : 1,\n",
    "                                 \"sl_a2\" : None,\n",
    "                                 \"sl_omega1\" : None,\n",
    "                                 \"sl_omega2\" : None}\n",
    "                            }\n",
    "\n",
    "sl_joint_prob_param_dict={\n",
    "                        \"c0\" : {\"B\" : None},\n",
    "                        \"c1\" : {\"B\" : None},\n",
    "                        \"c2\" : {\"B\" : None},\n",
    "                        \"c3\" : {\"B\" : None},\n",
    "                        \"c4\" : {\"B\" : None}}"
   ]
  },
  {
   "cell_type": "code",
   "execution_count": 4,
   "id": "5bede6af-5a51-44e6-bbcb-f185db96e034",
   "metadata": {},
   "outputs": [],
   "source": [
    "base_optim = {\"optimizer\":\"SGD_sc\", \n",
    "               \"lr\":1e-3, \n",
    "               \"max_lr\":1e-1, \n",
    "               \"steps_per_lr_cycle\":20}\n",
    "\n",
    "wd_ft_optim ={\"optimizer\":\"Adam\", \n",
    "              \"lr\":0.001}\n",
    "\n",
    "batch_size = 45\n",
    "\n",
    "num_base_epoch = 3000\n",
    "num_cd_epoch = 400\n",
    "num_ft_epoch =  30\n",
    "\n",
    "annealing_params={\"start\":100, \"end\":200, \"alpha\":1200}\n",
    "\n",
    "GPU = (lambda : True if torch.cuda.is_available() else False)()"
   ]
  },
  {
   "cell_type": "code",
   "execution_count": 5,
   "id": "96af7430-dbcb-461e-b381-c854af206636",
   "metadata": {},
   "outputs": [],
   "source": [
    "data_arr = np.load(\"data/sl_data.npz\")#npzデータのload()\n",
    "dataset = SL_Toy_Dataset(data_arr, alldata=False)\n",
    "dataloader = DataLoader(dataset, batch_size=batch_size, shuffle=True)\n",
    "base_optim[\"step_size\"]=(base_optim[\"steps_per_lr_cycle\"]//2)*np.ceil(len(dataset)/batch_size)#スケジューラの周期を設定"
   ]
  },
  {
   "cell_type": "code",
   "execution_count": 6,
   "id": "7210ab4a-789f-422c-92ce-4a6d9d8a2c53",
   "metadata": {},
   "outputs": [
    {
     "name": "stderr",
     "output_type": "stream",
     "text": [
      "GPU available: True (cuda), used: True\n",
      "TPU available: False, using: 0 TPU cores\n",
      "IPU available: False, using: 0 IPUs\n",
      "HPU available: False, using: 0 HPUs\n",
      "/opt/conda/lib/python3.10/site-packages/pytorch_lightning/trainer/connectors/logger_connector/logger_connector.py:75: Starting from v1.9.0, `tensorboardX` has been removed as a dependency of the `pytorch_lightning` package, due to potential conflicts with other packages in the ML ecosystem. For this reason, `logger=True` will use `CSVLogger` as the default logger, unless the `tensorboard` or `tensorboardX` packages are found. Please `pip install lightning[extra]` or one of them to enable TensorBoard support by default\n",
      "LOCAL_RANK: 0 - CUDA_VISIBLE_DEVICES: [0]\n",
      "\n",
      "  | Name  | Type                                 | Params\n",
      "---------------------------------------------------------------\n",
      "0 | model | SGVB_SSM_TS_Clustering_Model_With_NF | 132 K \n",
      "---------------------------------------------------------------\n",
      "132 K     Trainable params\n",
      "0         Non-trainable params\n",
      "132 K     Total params\n",
      "0.530     Total estimated model params size (MB)\n",
      "/opt/conda/lib/python3.10/site-packages/pytorch_lightning/trainer/connectors/data_connector.py:441: The 'train_dataloader' does not have many workers which may be a bottleneck. Consider increasing the value of the `num_workers` argument` to `num_workers=63` in the `DataLoader` to improve performance.\n",
      "/opt/conda/lib/python3.10/site-packages/pytorch_lightning/loops/fit_loop.py:298: The number of training batches (20) is smaller than the logging interval Trainer(log_every_n_steps=50). Set a lower value for log_every_n_steps if you want to see logs for the training epoch.\n"
     ]
    },
    {
     "data": {
      "application/vnd.jupyter.widget-view+json": {
       "model_id": "e8ecb340548647f69802cf9eb7f5338a",
       "version_major": 2,
       "version_minor": 0
      },
      "text/plain": [
       "Training: |          | 0/? [00:00<?, ?it/s]"
      ]
     },
     "metadata": {},
     "output_type": "display_data"
    },
    {
     "name": "stderr",
     "output_type": "stream",
     "text": [
      "`Trainer.fit` stopped: `max_epochs=1` reached.\n"
     ]
    }
   ],
   "source": [
    "lt_model_base = Base_SGVB_SSM_TS_Clustering_Model_With_NF(base_param_dict=base_param_dict_sl, \n",
    "                                         lstm_param_dict=lstm_param_dict, \n",
    "                                         resflow_param_dict=resflow_param_dict_sl, \n",
    "                                         model_param_dict=sl_model_param_dict,\n",
    "                                         joint_prob_param_dict=sl_joint_prob_param_dict,\n",
    "                                         optimizer=base_optim,\n",
    "                                         annealing_params=annealing_params,\n",
    "                                         GPU=GPU)\n",
    "trainer = pl.Trainer(max_epochs=1, gradient_clip_val=1)\n",
    "trainer.fit(lt_model_base, dataloader)"
   ]
  },
  {
   "cell_type": "code",
   "execution_count": 7,
   "id": "3e84672a-b700-4d4b-9188-241221470d6f",
   "metadata": {},
   "outputs": [
    {
     "name": "stderr",
     "output_type": "stream",
     "text": [
      "GPU available: True (cuda), used: True\n",
      "TPU available: False, using: 0 TPU cores\n",
      "IPU available: False, using: 0 IPUs\n",
      "HPU available: False, using: 0 HPUs\n",
      "LOCAL_RANK: 0 - CUDA_VISIBLE_DEVICES: [0]\n",
      "\n",
      "  | Name  | Type                                 | Params\n",
      "---------------------------------------------------------------\n",
      "0 | model | SGVB_SSM_TS_Clustering_Model_With_NF | 132 K \n",
      "---------------------------------------------------------------\n",
      "132 K     Trainable params\n",
      "0         Non-trainable params\n",
      "132 K     Total params\n",
      "0.530     Total estimated model params size (MB)\n"
     ]
    },
    {
     "data": {
      "application/vnd.jupyter.widget-view+json": {
       "model_id": "da955b69fcd4467e87881b0cd9b067ab",
       "version_major": 2,
       "version_minor": 0
      },
      "text/plain": [
       "Training: |          | 0/? [00:00<?, ?it/s]"
      ]
     },
     "metadata": {},
     "output_type": "display_data"
    },
    {
     "name": "stderr",
     "output_type": "stream",
     "text": [
      "`Trainer.fit` stopped: `max_epochs=1` reached.\n"
     ]
    }
   ],
   "source": [
    "lt_model_wd= WD_FT_SGVB_SSM_TS_Clustering_Model_With_NF(\n",
    "                 pretraind_model=lt_model_base.model,\n",
    "                 optimizer=wd_ft_optim, \n",
    "                 GPU = GPU,\n",
    "                 fine_tune=False)\n",
    "trainer = pl.Trainer(max_epochs=1, gradient_clip_val=1)\n",
    "trainer.fit(lt_model_wd, dataloader)"
   ]
  },
  {
   "cell_type": "code",
   "execution_count": 8,
   "id": "104d85f3-d21a-404d-aca1-00c867da492a",
   "metadata": {},
   "outputs": [
    {
     "name": "stderr",
     "output_type": "stream",
     "text": [
      "GPU available: True (cuda), used: True\n",
      "TPU available: False, using: 0 TPU cores\n",
      "IPU available: False, using: 0 IPUs\n",
      "HPU available: False, using: 0 HPUs\n",
      "LOCAL_RANK: 0 - CUDA_VISIBLE_DEVICES: [0]\n",
      "\n",
      "  | Name  | Type                                 | Params\n",
      "---------------------------------------------------------------\n",
      "0 | model | SGVB_SSM_TS_Clustering_Model_With_NF | 132 K \n",
      "---------------------------------------------------------------\n",
      "132 K     Trainable params\n",
      "0         Non-trainable params\n",
      "132 K     Total params\n",
      "0.530     Total estimated model params size (MB)\n"
     ]
    },
    {
     "data": {
      "application/vnd.jupyter.widget-view+json": {
       "model_id": "8ee17773c2bb49ebbb704fded47bec28",
       "version_major": 2,
       "version_minor": 0
      },
      "text/plain": [
       "Training: |          | 0/? [00:00<?, ?it/s]"
      ]
     },
     "metadata": {},
     "output_type": "display_data"
    },
    {
     "name": "stderr",
     "output_type": "stream",
     "text": [
      "`Trainer.fit` stopped: `max_epochs=1` reached.\n"
     ]
    }
   ],
   "source": [
    "lt_model_ft= WD_FT_SGVB_SSM_TS_Clustering_Model_With_NF(\n",
    "                 pretraind_model=lt_model_wd.model,\n",
    "                 optimizer=wd_ft_optim, \n",
    "                 GPU = GPU,\n",
    "                 fine_tune=True)\n",
    "trainer = pl.Trainer(max_epochs=1, gradient_clip_val=1)\n",
    "trainer.fit(lt_model_ft, dataloader)"
   ]
  },
  {
   "cell_type": "code",
   "execution_count": null,
   "id": "b0d9baed-268e-4b71-8c01-f249a954bd12",
   "metadata": {},
   "outputs": [],
   "source": []
  }
 ],
 "metadata": {
  "kernelspec": {
   "display_name": "Python 3 (ipykernel)",
   "language": "python",
   "name": "python3"
  },
  "language_info": {
   "codemirror_mode": {
    "name": "ipython",
    "version": 3
   },
   "file_extension": ".py",
   "mimetype": "text/x-python",
   "name": "python",
   "nbconvert_exporter": "python",
   "pygments_lexer": "ipython3",
   "version": "3.10.11"
  }
 },
 "nbformat": 4,
 "nbformat_minor": 5
}
