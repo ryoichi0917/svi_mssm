{
 "cells": [
  {
   "cell_type": "code",
   "execution_count": 1,
   "id": "853772b1-a664-4015-b241-dbcf8d8b8fb8",
   "metadata": {},
   "outputs": [],
   "source": [
    "from pathlib import Path\n",
    "import sys\n",
    "relative_path = Path('model')\n",
    "absolute_path = relative_path.resolve()\n",
    "sys.path.append(str(absolute_path))"
   ]
  },
  {
   "cell_type": "code",
   "execution_count": 2,
   "id": "a43cacc0-67c3-4542-9672-e9e19b1ed586",
   "metadata": {},
   "outputs": [],
   "source": [
    "import torch\n",
    "import pytorch_lightning as pl\n",
    "from SGVB_SSM_TS_Clustering_Model_ResFlow import SGVB_SSM_TS_Clustering_Model_With_NF\n",
    "from SL_Toy_Dataset import SL_Toy_Dataset\n",
    "from torch import optim\n",
    "from torch.utils.data import DataLoader\n",
    "from tqdm.notebook import tqdm\n",
    "import numpy as np\n",
    "import matplotlib.pyplot as plt\n",
    "import seaborn as sns\n",
    "from sklearn.metrics import confusion_matrix"
   ]
  },
  {
   "cell_type": "code",
   "execution_count": 4,
   "id": "b683b0e9-23e9-4b5e-b618-6397686ff8d7",
   "metadata": {},
   "outputs": [
    {
     "data": {
      "text/plain": [
       "'cuda:0'"
      ]
     },
     "execution_count": 4,
     "metadata": {},
     "output_type": "execute_result"
    }
   ],
   "source": [
    "base_param_dict_sl = {\"input_dim\":1,\n",
    "                   \"latent_dim\":2,\n",
    "                   \"num_clusters\":3,\n",
    "                   \"mode\":\"sl\"}\n",
    "\n",
    "lstm_param_dict = {\"embed_hidden_dim\":32,\n",
    "                   \"num_lstm_layers_base\":2,\n",
    "                   \"num_lstm_layers_other\":1,}\n",
    "\n",
    "resflow_param_dict_sl = {\"num_flow_module\":4,\n",
    "                      \"kernel_size\":2,\n",
    "                      \"dims\" : [2, 32, 32, 32, 32, 2],\n",
    "                      \"bias\" : True,\n",
    "                      \"coeff\" : 0.9,\n",
    "                      \"n_iterations\":None,\n",
    "                      \"tolerance\":0.001,\n",
    "                      \"reduce_memory\": False\n",
    "                      }\n",
    "\n",
    "sl_model_param_dict ={ \n",
    "                        \"c0\" : {\"sl_a1\" : 1,\n",
    "                                 \"sl_a2\" : None,\n",
    "                                 \"sl_omega1\" : None,\n",
    "                                 \"sl_omega2\" : None},\n",
    "                        \"c1\" : {\"sl_a1\" : 1,\n",
    "                                 \"sl_a2\" : None,\n",
    "                                 \"sl_omega1\" : None,\n",
    "                                 \"sl_omega2\" : None},\n",
    "                        \"c2\" : {\"sl_a1\" : 1,\n",
    "                                 \"sl_a2\" : None,\n",
    "                                 \"sl_omega1\" : None,\n",
    "                                 \"sl_omega2\" : None}\n",
    "                            }\n",
    "\n",
    "sl_joint_prob_param_dict={\n",
    "                        \"c0\" : {\"B\" : None},\n",
    "                        \"c1\" : {\"B\" : None},\n",
    "                        \"c2\" : {\"B\" : None}}\n",
    "\n",
    "trained_weight = \"./weights/sl_trained_weight.pth\"\n",
    "\n",
    "device = \"cuda:0\" if torch.cuda.is_available() else \"cpu\""
   ]
  },
  {
   "cell_type": "code",
   "execution_count": 6,
   "id": "031ba28c-944c-4ab0-941e-43bf201e50e6",
   "metadata": {},
   "outputs": [],
   "source": [
    "data_arr = np.load(\"data/sl_data.npz\")\n",
    "dataset = SL_Toy_Dataset(data_arr, alldata=True)\n",
    "dataloader = DataLoader(dataset, batch_size=45, shuffle=False)\n",
    "batch = next(iter(dataloader))[\"y_obs\"].to(device)"
   ]
  },
  {
   "cell_type": "code",
   "execution_count": 8,
   "id": "7387257a-b99e-439d-b1ea-b3b03af9fe0e",
   "metadata": {},
   "outputs": [
    {
     "data": {
      "text/plain": [
       "<All keys matched successfully>"
      ]
     },
     "execution_count": 8,
     "metadata": {},
     "output_type": "execute_result"
    }
   ],
   "source": [
    "model = SGVB_SSM_TS_Clustering_Model_With_NF(base_param_dict=base_param_dict_sl,\n",
    "                                                lstm_param_dict=lstm_param_dict,\n",
    "                                                resflow_param_dict=resflow_param_dict_sl,\n",
    "                                                model_param_dict=sl_model_param_dict,\n",
    "                                                joint_prob_param_dict=sl_joint_prob_param_dict,\n",
    "                                                GPU=torch.cuda.is_available()).to(device)\n",
    "model(batch)\n",
    "model.load_state_dict(torch.load(trained_weight))"
   ]
  },
  {
   "cell_type": "code",
   "execution_count": 10,
   "id": "ae7bb913-e002-4008-875d-31039708f1bf",
   "metadata": {},
   "outputs": [
    {
     "data": {
      "application/vnd.jupyter.widget-view+json": {
       "model_id": "279f167dd8874bb4889114525f924888",
       "version_major": 2,
       "version_minor": 0
      },
      "text/plain": [
       "  0%|          | 0/20 [00:00<?, ?it/s]"
      ]
     },
     "metadata": {},
     "output_type": "display_data"
    }
   ],
   "source": [
    "cluster_pred_list = []\n",
    "cluster_gt_list = []\n",
    "for batch in tqdm(dataloader):\n",
    "    pred = model.lstm_embedder(batch[\"y_obs\"].to(device))\n",
    "    cluster_pred_list.append(np.argmax(pred[\"cluster\"].cpu().detach().numpy(), axis=1))\n",
    "    cluster_gt_list.append(batch[\"cluster\"].numpy())\n",
    "cluster_pred = np.concatenate(cluster_pred_list)\n",
    "cluster_gt = np.concatenate(cluster_gt_list)"
   ]
  },
  {
   "cell_type": "code",
   "execution_count": 11,
   "id": "f98a1968-eb8c-4b91-959c-a3b9c448c586",
   "metadata": {},
   "outputs": [
    {
     "data": {
      "image/png": "[encoded data removed]",
      "text/plain": [
       "<Figure size 640x480 with 2 Axes>"
      ]
     },
     "metadata": {},
     "output_type": "display_data"
    }
   ],
   "source": [
    "cm = confusion_matrix(cluster_gt, cluster_pred)\n",
    "\n",
    "sns.heatmap(cm, annot=True, fmt=\"d\", cmap=\"Blues\")\n",
    "plt.xlabel('Predicted labels')\n",
    "plt.ylabel('True labels')\n",
    "plt.title('Confusion Matrix')\n",
    "plt.show()"
   ]
  }
 ],
 "metadata": {
  "kernelspec": {
   "display_name": "Python 3 (ipykernel)",
   "language": "python",
   "name": "python3"
  },
  "language_info": {
   "codemirror_mode": {
    "name": "ipython",
    "version": 3
   },
   "file_extension": ".py",
   "mimetype": "text/x-python",
   "name": "python",
   "nbconvert_exporter": "python",
   "pygments_lexer": "ipython3",
   "version": "3.10.11"
  }
 },
 "nbformat": 4,
 "nbformat_minor": 5
}
